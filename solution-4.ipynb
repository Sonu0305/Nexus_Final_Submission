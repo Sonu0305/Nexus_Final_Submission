{
 "cells": [
  {
   "cell_type": "code",
   "execution_count": 1,
   "id": "1a82f625",
   "metadata": {
    "_cell_guid": "b1076dfc-b9ad-4769-8c92-a6c4dae69d19",
    "_uuid": "8f2839f25d086af736a60e9eeb907d3b93b6e0e5",
    "execution": {
     "iopub.execute_input": "2024-09-28T10:08:45.087120Z",
     "iopub.status.busy": "2024-09-28T10:08:45.085843Z",
     "iopub.status.idle": "2024-09-28T10:08:46.045766Z",
     "shell.execute_reply": "2024-09-28T10:08:46.044179Z"
    },
    "papermill": {
     "duration": 0.969155,
     "end_time": "2024-09-28T10:08:46.048407",
     "exception": false,
     "start_time": "2024-09-28T10:08:45.079252",
     "status": "completed"
    },
    "tags": []
   },
   "outputs": [
    {
     "name": "stdout",
     "output_type": "stream",
     "text": [
      "/kaggle/input/nexus-by-djs-nsdc-ultraceuticals/sample_submission.csv\n",
      "/kaggle/input/nexus-by-djs-nsdc-ultraceuticals/train.csv\n",
      "/kaggle/input/nexus-by-djs-nsdc-ultraceuticals/test.csv\n"
     ]
    }
   ],
   "source": [
    "# This Python 3 environment comes with many helpful analytics libraries installed\n",
    "# It is defined by the kaggle/python Docker image: https://github.com/kaggle/docker-python\n",
    "# For example, here's several helpful packages to load\n",
    "\n",
    "import numpy as np # linear algebra\n",
    "import pandas as pd # data processing, CSV file I/O (e.g. pd.read_csv)\n",
    "\n",
    "# Input data files are available in the read-only \"../input/\" directory\n",
    "# For example, running this (by clicking run or pressing Shift+Enter) will list all files under the input directory\n",
    "\n",
    "import os\n",
    "for dirname, _, filenames in os.walk('/kaggle/input/nexus-by-djs-nsdc-ultraceuticals'):\n",
    "    for filename in filenames:\n",
    "        print(os.path.join(dirname, filename))\n",
    "\n",
    "# You can write up to 20GB to the current directory (/kaggle/working/) that gets preserved as output when you create a version using \"Save & Run All\" \n",
    "# You can also write temporary files to /kaggle/temp/, but they won't be saved outside of the current session"
   ]
  },
  {
   "cell_type": "code",
   "execution_count": 2,
   "id": "86fd869f",
   "metadata": {
    "execution": {
     "iopub.execute_input": "2024-09-28T10:08:46.057974Z",
     "iopub.status.busy": "2024-09-28T10:08:46.057332Z",
     "iopub.status.idle": "2024-09-28T10:08:47.940326Z",
     "shell.execute_reply": "2024-09-28T10:08:47.939156Z"
    },
    "papermill": {
     "duration": 1.891029,
     "end_time": "2024-09-28T10:08:47.943318",
     "exception": false,
     "start_time": "2024-09-28T10:08:46.052289",
     "status": "completed"
    },
    "tags": []
   },
   "outputs": [],
   "source": [
    "from sklearn.preprocessing import LabelEncoder\n",
    "from sklearn.ensemble import RandomForestClassifier\n",
    "from sklearn import svm\n",
    "from sklearn.preprocessing import StandardScaler\n",
    "from sklearn.model_selection import RandomizedSearchCV\n",
    "from scipy.stats import randint\n",
    "from sklearn.tree import DecisionTreeClassifier"
   ]
  },
  {
   "cell_type": "code",
   "execution_count": 3,
   "id": "3cfca0e8",
   "metadata": {
    "execution": {
     "iopub.execute_input": "2024-09-28T10:08:47.953324Z",
     "iopub.status.busy": "2024-09-28T10:08:47.952184Z",
     "iopub.status.idle": "2024-09-28T10:08:55.980206Z",
     "shell.execute_reply": "2024-09-28T10:08:55.978910Z"
    },
    "papermill": {
     "duration": 8.035741,
     "end_time": "2024-09-28T10:08:55.982865",
     "exception": false,
     "start_time": "2024-09-28T10:08:47.947124",
     "status": "completed"
    },
    "tags": []
   },
   "outputs": [
    {
     "name": "stdout",
     "output_type": "stream",
     "text": [
      "['ID', 'TargetID', 'DRUGID', 'DRUGTYPE', 'Drug_high_status', 'DRUGNAME', 'PUBCHCID', 'Disease_of_highest_status', 'Drug_Status', 'UNIPROID', 'TARGNAME', 'GENENAME', 'SYNONYMS', 'FUNCTION', 'BIOCLASS', 'SEQUENCE', 'Disease', 'Accession Number', 'Target_Status']\n"
     ]
    }
   ],
   "source": [
    "df = pd.read_csv('/kaggle/input/nexus-by-djs-nsdc-ultraceuticals/train.csv')\n",
    "df2 = pd.read_csv('/kaggle/input/nexus-by-djs-nsdc-ultraceuticals/test.csv')\n",
    "print([str(x) for x in df.iloc[0:0,:]])"
   ]
  },
  {
   "cell_type": "code",
   "execution_count": 4,
   "id": "95517b54",
   "metadata": {
    "execution": {
     "iopub.execute_input": "2024-09-28T10:08:55.992350Z",
     "iopub.status.busy": "2024-09-28T10:08:55.991922Z",
     "iopub.status.idle": "2024-09-28T10:08:55.997904Z",
     "shell.execute_reply": "2024-09-28T10:08:55.996581Z"
    },
    "papermill": {
     "duration": 0.013479,
     "end_time": "2024-09-28T10:08:56.000278",
     "exception": false,
     "start_time": "2024-09-28T10:08:55.986799",
     "status": "completed"
    },
    "tags": []
   },
   "outputs": [],
   "source": [
    "# main_vars10 = ['ID', \n",
    "#                     'DRUGNAME', 'GENENAME',\n",
    "#                     'SEQUENCE',\n",
    "#                     'Disease']\n",
    "# X10_train = df[main_vars10]\n",
    "# X10_train_encoded = pd.get_dummies(X10_train, drop_first=True)\n",
    "\n",
    "# y10_train = df['Target_Status']\n",
    "\n",
    "# X10_test = pd.get_dummies(df2[main_vars10], drop_first=True)\n",
    "# X10_test_encoded = X10_test.reindex(columns=X10_train_encoded.columns, fill_value=0)\n",
    "# model10 = RandomForestClassifier(random_state=42)\n",
    "# model10.fit(X10_train_encoded, y10_train)\n",
    "\n",
    "# y10_pred = model10.predict(X10_test_encoded)\n",
    "\n",
    "# submission10 = pd.DataFrame({\n",
    "#     'ID': df2['ID'], \n",
    "#     'Prediction': y10_pred\n",
    "# })\n",
    "# submission10.to_csv('submission10.csv', index=False)"
   ]
  },
  {
   "cell_type": "code",
   "execution_count": 5,
   "id": "8bac40b2",
   "metadata": {
    "execution": {
     "iopub.execute_input": "2024-09-28T10:08:56.009969Z",
     "iopub.status.busy": "2024-09-28T10:08:56.009473Z",
     "iopub.status.idle": "2024-09-28T10:08:56.015051Z",
     "shell.execute_reply": "2024-09-28T10:08:56.013947Z"
    },
    "papermill": {
     "duration": 0.013177,
     "end_time": "2024-09-28T10:08:56.017436",
     "exception": false,
     "start_time": "2024-09-28T10:08:56.004259",
     "status": "completed"
    },
    "tags": []
   },
   "outputs": [],
   "source": [
    "# main_vars17 = ['ID', \n",
    "#                'DRUGNAME', 'GENENAME',\n",
    "#                'SEQUENCE',\n",
    "#                'Disease']\n",
    "\n",
    "# X17_train = df[main_vars17]\n",
    "# X17_train_encoded = pd.get_dummies(X17_train, drop_first=True)\n",
    "\n",
    "# y17_train = df['Target_Status']\n",
    "\n",
    "# X17_test = pd.get_dummies(df2[main_vars17], drop_first=True)\n",
    "# X17_test_encoded = X17_test.reindex(columns=X17_train_encoded.columns, fill_value=0)\n",
    "\n",
    "# param_dist = {\n",
    "#     'n_estimators': randint(50, 500),  \n",
    "#     'max_depth': randint(1, 20)         \n",
    "# }"
   ]
  },
  {
   "cell_type": "code",
   "execution_count": 6,
   "id": "25a2cf73",
   "metadata": {
    "execution": {
     "iopub.execute_input": "2024-09-28T10:08:56.026903Z",
     "iopub.status.busy": "2024-09-28T10:08:56.026467Z",
     "iopub.status.idle": "2024-09-28T10:08:56.031389Z",
     "shell.execute_reply": "2024-09-28T10:08:56.030247Z"
    },
    "papermill": {
     "duration": 0.012597,
     "end_time": "2024-09-28T10:08:56.033924",
     "exception": false,
     "start_time": "2024-09-28T10:08:56.021327",
     "status": "completed"
    },
    "tags": []
   },
   "outputs": [],
   "source": [
    "# rf = RandomForestClassifier(random_state=42)\n",
    "\n",
    "# rand_search = RandomizedSearchCV(rf, \n",
    "#                                  param_distributions=param_dist, \n",
    "#                                  n_iter=5, \n",
    "#                                  cv=5, \n",
    "#                                  random_state=42)\n",
    "\n",
    "# rand_search.fit(X17_train_encoded, y17_train)"
   ]
  },
  {
   "cell_type": "code",
   "execution_count": 7,
   "id": "e4859f34",
   "metadata": {
    "execution": {
     "iopub.execute_input": "2024-09-28T10:08:56.043398Z",
     "iopub.status.busy": "2024-09-28T10:08:56.042961Z",
     "iopub.status.idle": "2024-09-28T10:08:56.047967Z",
     "shell.execute_reply": "2024-09-28T10:08:56.046838Z"
    },
    "papermill": {
     "duration": 0.012344,
     "end_time": "2024-09-28T10:08:56.050285",
     "exception": false,
     "start_time": "2024-09-28T10:08:56.037941",
     "status": "completed"
    },
    "tags": []
   },
   "outputs": [],
   "source": [
    "# best_model = rand_search.best_estimator_\n",
    "\n",
    "# y17_pred = best_model.predict(X17_test_encoded)\n",
    "\n",
    "# submission17 = pd.DataFrame({\n",
    "#     'ID': df2['ID'], \n",
    "#     'Prediction': y17_pred\n",
    "# })\n",
    "\n",
    "# submission17.to_csv('submission17.csv', index=False)"
   ]
  },
  {
   "cell_type": "code",
   "execution_count": 8,
   "id": "b78183b7",
   "metadata": {
    "execution": {
     "iopub.execute_input": "2024-09-28T10:08:56.059843Z",
     "iopub.status.busy": "2024-09-28T10:08:56.059440Z",
     "iopub.status.idle": "2024-09-28T10:13:15.767295Z",
     "shell.execute_reply": "2024-09-28T10:13:15.765734Z"
    },
    "papermill": {
     "duration": 259.716039,
     "end_time": "2024-09-28T10:13:15.770347",
     "exception": false,
     "start_time": "2024-09-28T10:08:56.054308",
     "status": "completed"
    },
    "tags": []
   },
   "outputs": [],
   "source": [
    "main_vars19 = ['ID', 'DRUGNAME', 'GENENAME', 'SEQUENCE', 'Disease']\n",
    "X19_train = df[main_vars19]\n",
    "X19_train_encoded = pd.get_dummies(X19_train, drop_first=True)\n",
    "\n",
    "y19_train = df['Target_Status']\n",
    "\n",
    "X19_test = pd.get_dummies(df2[main_vars19], drop_first=True)\n",
    "X19_test_encoded = X19_test.reindex(columns=X19_train_encoded.columns, fill_value=0)\n",
    "\n",
    "model19 = DecisionTreeClassifier(random_state=42)\n",
    "model19.fit(X19_train_encoded, y19_train)\n",
    "\n",
    "y19_pred = model19.predict(X19_test_encoded)\n",
    "\n",
    "submission19 = pd.DataFrame({\n",
    "    'ID': df2['ID'], \n",
    "    'Prediction': y19_pred\n",
    "})\n",
    "\n",
    "submission19.to_csv('submission19.csv', index=False)"
   ]
  }
 ],
 "metadata": {
  "kaggle": {
   "accelerator": "none",
   "dataSources": [
    {
     "databundleVersionId": 9691631,
     "sourceId": 85725,
     "sourceType": "competition"
    }
   ],
   "isGpuEnabled": false,
   "isInternetEnabled": true,
   "language": "python",
   "sourceType": "notebook"
  },
  "kernelspec": {
   "display_name": "Python 3",
   "language": "python",
   "name": "python3"
  },
  "language_info": {
   "codemirror_mode": {
    "name": "ipython",
    "version": 3
   },
   "file_extension": ".py",
   "mimetype": "text/x-python",
   "name": "python",
   "nbconvert_exporter": "python",
   "pygments_lexer": "ipython3",
   "version": "3.10.14"
  },
  "papermill": {
   "default_parameters": {},
   "duration": 274.493294,
   "end_time": "2024-09-28T10:13:16.499185",
   "environment_variables": {},
   "exception": null,
   "input_path": "__notebook__.ipynb",
   "output_path": "__notebook__.ipynb",
   "parameters": {},
   "start_time": "2024-09-28T10:08:42.005891",
   "version": "2.6.0"
  }
 },
 "nbformat": 4,
 "nbformat_minor": 5
}
