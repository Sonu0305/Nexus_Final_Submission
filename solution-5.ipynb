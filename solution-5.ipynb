{
 "cells": [
  {
   "cell_type": "code",
   "execution_count": 1,
   "id": "4a702209",
   "metadata": {
    "_cell_guid": "b1076dfc-b9ad-4769-8c92-a6c4dae69d19",
    "_uuid": "8f2839f25d086af736a60e9eeb907d3b93b6e0e5",
    "execution": {
     "iopub.execute_input": "2024-09-28T09:57:44.676062Z",
     "iopub.status.busy": "2024-09-28T09:57:44.675530Z",
     "iopub.status.idle": "2024-09-28T09:57:45.525409Z",
     "shell.execute_reply": "2024-09-28T09:57:45.524116Z"
    },
    "papermill": {
     "duration": 0.858644,
     "end_time": "2024-09-28T09:57:45.528747",
     "exception": false,
     "start_time": "2024-09-28T09:57:44.670103",
     "status": "completed"
    },
    "tags": []
   },
   "outputs": [
    {
     "name": "stdout",
     "output_type": "stream",
     "text": [
      "/kaggle/input/nexus-by-djs-nsdc-ultraceuticals/sample_submission.csv\n",
      "/kaggle/input/nexus-by-djs-nsdc-ultraceuticals/train.csv\n",
      "/kaggle/input/nexus-by-djs-nsdc-ultraceuticals/test.csv\n"
     ]
    }
   ],
   "source": [
    "# This Python 3 environment comes with many helpful analytics libraries installed\n",
    "# It is defined by the kaggle/python Docker image: https://github.com/kaggle/docker-python\n",
    "# For example, here's several helpful packages to load\n",
    "\n",
    "import numpy as np # linear algebra\n",
    "import pandas as pd # data processing, CSV file I/O (e.g. pd.read_csv)\n",
    "\n",
    "# Input data files are available in the read-only \"../input/\" directory\n",
    "# For example, running this (by clicking run or pressing Shift+Enter) will list all files under the input directory\n",
    "\n",
    "import os\n",
    "for dirname, _, filenames in os.walk('/kaggle/input/nexus-by-djs-nsdc-ultraceuticals'):\n",
    "    for filename in filenames:\n",
    "        print(os.path.join(dirname, filename))\n",
    "\n",
    "# You can write up to 20GB to the current directory (/kaggle/working/) that gets preserved as output when you create a version using \"Save & Run All\" \n",
    "# You can also write temporary files to /kaggle/temp/, but they won't be saved outside of the current session"
   ]
  },
  {
   "cell_type": "code",
   "execution_count": 2,
   "id": "b1653a4f",
   "metadata": {
    "execution": {
     "iopub.execute_input": "2024-09-28T09:57:45.537940Z",
     "iopub.status.busy": "2024-09-28T09:57:45.537132Z",
     "iopub.status.idle": "2024-09-28T09:57:47.732355Z",
     "shell.execute_reply": "2024-09-28T09:57:47.731262Z"
    },
    "papermill": {
     "duration": 2.202494,
     "end_time": "2024-09-28T09:57:47.735244",
     "exception": false,
     "start_time": "2024-09-28T09:57:45.532750",
     "status": "completed"
    },
    "tags": []
   },
   "outputs": [],
   "source": [
    "from sklearn.ensemble import RandomForestClassifier\n",
    "from category_encoders import TargetEncoder\n",
    "from sklearn.preprocessing import LabelEncoder"
   ]
  },
  {
   "cell_type": "code",
   "execution_count": 3,
   "id": "3674e2be",
   "metadata": {
    "execution": {
     "iopub.execute_input": "2024-09-28T09:57:47.743563Z",
     "iopub.status.busy": "2024-09-28T09:57:47.742948Z",
     "iopub.status.idle": "2024-09-28T09:57:55.524764Z",
     "shell.execute_reply": "2024-09-28T09:57:55.523444Z"
    },
    "papermill": {
     "duration": 7.788832,
     "end_time": "2024-09-28T09:57:55.527314",
     "exception": false,
     "start_time": "2024-09-28T09:57:47.738482",
     "status": "completed"
    },
    "tags": []
   },
   "outputs": [
    {
     "name": "stdout",
     "output_type": "stream",
     "text": [
      "['ID', 'TargetID', 'DRUGID', 'DRUGTYPE', 'Drug_high_status', 'DRUGNAME', 'PUBCHCID', 'Disease_of_highest_status', 'Drug_Status', 'UNIPROID', 'TARGNAME', 'GENENAME', 'SYNONYMS', 'FUNCTION', 'BIOCLASS', 'SEQUENCE', 'Disease', 'Accession Number', 'Target_Status']\n"
     ]
    }
   ],
   "source": [
    "df = pd.read_csv('/kaggle/input/nexus-by-djs-nsdc-ultraceuticals/train.csv')\n",
    "df2 = pd.read_csv('/kaggle/input/nexus-by-djs-nsdc-ultraceuticals/test.csv')\n",
    "print([str(x) for x in df.iloc[0:0,:]])"
   ]
  },
  {
   "cell_type": "code",
   "execution_count": 4,
   "id": "729e1933",
   "metadata": {
    "execution": {
     "iopub.execute_input": "2024-09-28T09:57:55.535958Z",
     "iopub.status.busy": "2024-09-28T09:57:55.535047Z",
     "iopub.status.idle": "2024-09-28T09:58:25.672074Z",
     "shell.execute_reply": "2024-09-28T09:58:25.670946Z"
    },
    "papermill": {
     "duration": 30.144501,
     "end_time": "2024-09-28T09:58:25.675080",
     "exception": false,
     "start_time": "2024-09-28T09:57:55.530579",
     "status": "completed"
    },
    "tags": []
   },
   "outputs": [],
   "source": [
    "main_vars18 = ['ID', 'DRUGNAME', 'GENENAME', 'SEQUENCE', 'Disease']\n",
    "X18_train = df[main_vars18]\n",
    "y18_train = df['Target_Status']\n",
    "\n",
    "label_encoder = LabelEncoder()\n",
    "y18_train = label_encoder.fit_transform(y18_train)  # Ensure you use y18_train directly\n",
    "\n",
    "X18_test = df2[main_vars18]\n",
    "\n",
    "target_encoder = TargetEncoder(cols=['DRUGNAME', 'GENENAME', 'SEQUENCE', 'Disease'])\n",
    "X18_train_encoded = target_encoder.fit_transform(X18_train.drop(columns=['ID']), y18_train)\n",
    "X18_test_encoded = target_encoder.transform(X18_test.drop(columns=['ID']))\n",
    "\n",
    "X18_train_encoded['ID'] = X18_train['ID'].values\n",
    "X18_test_encoded['ID'] = X18_test['ID'].values\n",
    "\n",
    "model18 = RandomForestClassifier(random_state=42)\n",
    "model18.fit(X18_train_encoded.drop(columns=['ID']), y18_train)\n",
    "\n",
    "y18_pred = model18.predict(X18_test_encoded.drop(columns=['ID']))\n",
    "\n",
    "submission18 = pd.DataFrame({\n",
    "    'ID': df2['ID'], \n",
    "    'Prediction': label_encoder.inverse_transform(y18_pred) \n",
    "})\n",
    "\n",
    "submission18.to_csv('submission18.csv', index=False)"
   ]
  },
  {
   "cell_type": "code",
   "execution_count": null,
   "id": "b0bcbf0e",
   "metadata": {
    "papermill": {
     "duration": 0.002762,
     "end_time": "2024-09-28T09:58:25.681103",
     "exception": false,
     "start_time": "2024-09-28T09:58:25.678341",
     "status": "completed"
    },
    "tags": []
   },
   "outputs": [],
   "source": []
  }
 ],
 "metadata": {
  "kaggle": {
   "accelerator": "none",
   "dataSources": [
    {
     "databundleVersionId": 9691631,
     "sourceId": 85725,
     "sourceType": "competition"
    }
   ],
   "dockerImageVersionId": 30775,
   "isGpuEnabled": false,
   "isInternetEnabled": true,
   "language": "python",
   "sourceType": "notebook"
  },
  "kernelspec": {
   "display_name": "Python 3",
   "language": "python",
   "name": "python3"
  },
  "language_info": {
   "codemirror_mode": {
    "name": "ipython",
    "version": 3
   },
   "file_extension": ".py",
   "mimetype": "text/x-python",
   "name": "python",
   "nbconvert_exporter": "python",
   "pygments_lexer": "ipython3",
   "version": "3.10.14"
  },
  "papermill": {
   "default_parameters": {},
   "duration": 44.614407,
   "end_time": "2024-09-28T09:58:26.406370",
   "environment_variables": {},
   "exception": null,
   "input_path": "__notebook__.ipynb",
   "output_path": "__notebook__.ipynb",
   "parameters": {},
   "start_time": "2024-09-28T09:57:41.791963",
   "version": "2.6.0"
  }
 },
 "nbformat": 4,
 "nbformat_minor": 5
}
